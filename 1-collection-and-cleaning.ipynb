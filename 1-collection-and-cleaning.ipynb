{
 "cells": [
  {
   "cell_type": "markdown",
   "metadata": {},
   "source": [
    "# Data collection and cleaning"
   ]
  },
  {
   "cell_type": "code",
   "execution_count": 61,
   "metadata": {
    "ExecuteTime": {
     "end_time": "2020-10-12T07:19:08.269792Z",
     "start_time": "2020-10-12T07:19:08.253803Z"
    }
   },
   "outputs": [],
   "source": [
    "# Importing key libraries\n",
    "import numpy as np\n",
    "import pandas as pd"
   ]
  },
  {
   "cell_type": "code",
   "execution_count": 62,
   "metadata": {},
   "outputs": [],
   "source": [
    "# Downloading data from local folders \n",
    "xtb = pd.read_csv(\"Data/Raw/xtb_d.csv\", index_col=\"Data\", parse_dates=True)\n",
    "wig = pd.read_csv(\"Data/Raw/wig_d.csv\", index_col=\"Data\", parse_dates=True)\n",
    "spx = pd.read_csv(\"Data/Raw/^spx_d.csv\", index_col=\"Data\", parse_dates=True)\n",
    "gld = pd.read_csv(\"Data/Raw/gc_f_d.csv\", index_col=\"Data\", parse_dates=True)\n",
    "oil = pd.read_csv(\"Data/Raw/cl_f_d.csv\", index_col=\"Data\", parse_dates=True)\n",
    "usd = pd.read_csv(\"Data/Raw/usdeur_d.csv\", index_col=\"Data\", parse_dates=True)\n",
    "vix = pd.read_csv(\"Data/Raw/^VIX.csv\", index_col=\"Date\", parse_dates=True)"
   ]
  },
  {
   "cell_type": "raw",
   "metadata": {},
   "source": [
    "# The online source is the best for updated datasets \n",
    "\n",
    "xtb = pd.read_csv(\"https://stooq.pl/q/d/l/?s=xtb&i=d&o=1111111\", index_col=\"Data\", parse_dates=True)\n",
    "wig = pd.read_csv(\"https://stooq.pl/q/d/l/?s=wig&i=d&o=1111111\", index_col=\"Data\", parse_dates=True)\n",
    "spx = pd.read_csv(\"https://stooq.pl/q/d/l/?s=^spx&i=d&o=1111111\", index_col=\"Data\", parse_dates=True)\n",
    "gld = pd.read_csv(\"https://stooq.pl/q/d/l/?s=gc.f&i=d&o=1111111\", index_col=\"Data\", parse_dates=True)\n",
    "oil = pd.read_csv(\"https://stooq.pl/q/d/l/?s=cl.f&i=d&o=1111111\", index_col=\"Data\", parse_dates=True)\n",
    "usd = pd.read_csv(\"https://stooq.pl/q/d/l/?s=usdeur&i=d&o=1111111\", index_col=\"Data\", parse_dates=True)\n",
    "vix = pd.read_csv(\"https://stooq.pl/q/d/?s=vix20.f\", index_col=\"Date\", parse_dates=True)\n",
    "\n",
    "#Unfortunately the major datasource has a limited timescale for VI, \n",
    "#it is recommended to use yahoo finance instead\n",
    "\n",
    "#vix = pd.read_csv(\"https://query1.finance.yahoo.com/v7/finance/download/%5EVIX?period1=1444694400\"\n",
    "#                  +\"&period2=1602547200&interval=1d&events=history&includeAdjustedClose=true\", \n",
    "#                  index_col=\"Date\", parse_dates=True)"
   ]
  },
  {
   "cell_type": "code",
   "execution_count": 63,
   "metadata": {
    "ExecuteTime": {
     "end_time": "2020-10-12T07:19:12.823599Z",
     "start_time": "2020-10-12T07:19:12.624714Z"
    }
   },
   "outputs": [
    {
     "data": {
      "text/html": [
       "<div>\n",
       "<style scoped>\n",
       "    .dataframe tbody tr th:only-of-type {\n",
       "        vertical-align: middle;\n",
       "    }\n",
       "\n",
       "    .dataframe tbody tr th {\n",
       "        vertical-align: top;\n",
       "    }\n",
       "\n",
       "    .dataframe thead th {\n",
       "        text-align: right;\n",
       "    }\n",
       "</style>\n",
       "<table border=\"1\" class=\"dataframe\">\n",
       "  <thead>\n",
       "    <tr style=\"text-align: right;\">\n",
       "      <th></th>\n",
       "      <th>xtb</th>\n",
       "      <th>wig</th>\n",
       "      <th>spx</th>\n",
       "      <th>gld</th>\n",
       "      <th>oil</th>\n",
       "      <th>usd</th>\n",
       "      <th>vix</th>\n",
       "    </tr>\n",
       "  </thead>\n",
       "  <tbody>\n",
       "    <tr>\n",
       "      <th>2020-10-12</th>\n",
       "      <td>15.3</td>\n",
       "      <td>48938.01</td>\n",
       "      <td>3534.22</td>\n",
       "      <td>1928.9</td>\n",
       "      <td>39.43</td>\n",
       "      <td>0.84643</td>\n",
       "      <td>25.070000</td>\n",
       "    </tr>\n",
       "    <tr>\n",
       "      <th>2020-10-13</th>\n",
       "      <td>16.1</td>\n",
       "      <td>48464.15</td>\n",
       "      <td>3511.93</td>\n",
       "      <td>1894.6</td>\n",
       "      <td>40.20</td>\n",
       "      <td>0.85142</td>\n",
       "      <td>26.070000</td>\n",
       "    </tr>\n",
       "    <tr>\n",
       "      <th>2020-10-14</th>\n",
       "      <td>16.3</td>\n",
       "      <td>48596.45</td>\n",
       "      <td>3488.67</td>\n",
       "      <td>1907.3</td>\n",
       "      <td>41.04</td>\n",
       "      <td>0.85117</td>\n",
       "      <td>26.400000</td>\n",
       "    </tr>\n",
       "    <tr>\n",
       "      <th>2020-10-15</th>\n",
       "      <td>16.1</td>\n",
       "      <td>47482.00</td>\n",
       "      <td>3483.34</td>\n",
       "      <td>1908.9</td>\n",
       "      <td>40.96</td>\n",
       "      <td>0.85394</td>\n",
       "      <td>26.969999</td>\n",
       "    </tr>\n",
       "    <tr>\n",
       "      <th>2020-10-16</th>\n",
       "      <td>17.8</td>\n",
       "      <td>48210.12</td>\n",
       "      <td>3483.81</td>\n",
       "      <td>1902.8</td>\n",
       "      <td>40.77</td>\n",
       "      <td>0.85341</td>\n",
       "      <td>27.410000</td>\n",
       "    </tr>\n",
       "  </tbody>\n",
       "</table>\n",
       "</div>"
      ],
      "text/plain": [
       "             xtb       wig      spx     gld    oil      usd        vix\n",
       "2020-10-12  15.3  48938.01  3534.22  1928.9  39.43  0.84643  25.070000\n",
       "2020-10-13  16.1  48464.15  3511.93  1894.6  40.20  0.85142  26.070000\n",
       "2020-10-14  16.3  48596.45  3488.67  1907.3  41.04  0.85117  26.400000\n",
       "2020-10-15  16.1  47482.00  3483.34  1908.9  40.96  0.85394  26.969999\n",
       "2020-10-16  17.8  48210.12  3483.81  1902.8  40.77  0.85341  27.410000"
      ]
     },
     "execution_count": 63,
     "metadata": {},
     "output_type": "execute_result"
    }
   ],
   "source": [
    "# constructing the dataset\n",
    "dataset = pd.concat([xtb[\"Zamkniecie\"], \n",
    "                     wig[\"Zamkniecie\"], \n",
    "                     spx[\"Zamkniecie\"], \n",
    "                     gld[\"Zamkniecie\"], \n",
    "                     oil[\"Zamkniecie\"], \n",
    "                     usd[\"Zamkniecie\"], \n",
    "                     vix[\"Close\"]], axis=1).dropna()\n",
    "\n",
    "dataset.columns = [\"xtb\", \"wig\", \"spx\", \"gld\", \"oil\", \"usd\", \"vix\"]\n",
    "dataset.tail()"
   ]
  },
  {
   "cell_type": "code",
   "execution_count": 64,
   "metadata": {
    "ExecuteTime": {
     "end_time": "2020-10-12T07:19:12.854580Z",
     "start_time": "2020-10-12T07:19:12.827598Z"
    }
   },
   "outputs": [],
   "source": [
    "# Saving the most recent features\n",
    "tomorrow = dataset.iloc[-1][1:]"
   ]
  },
  {
   "cell_type": "code",
   "execution_count": 65,
   "metadata": {},
   "outputs": [
    {
     "name": "stdout",
     "output_type": "stream",
     "text": [
      "<class 'pandas.core.frame.DataFrame'>\n",
      "DatetimeIndex: 1068 entries, 2016-05-06 to 2020-10-16\n",
      "Data columns (total 7 columns):\n",
      " #   Column  Non-Null Count  Dtype  \n",
      "---  ------  --------------  -----  \n",
      " 0   xtb     1068 non-null   float64\n",
      " 1   wig     1068 non-null   float64\n",
      " 2   spx     1068 non-null   float64\n",
      " 3   gld     1068 non-null   float64\n",
      " 4   oil     1068 non-null   float64\n",
      " 5   usd     1068 non-null   float64\n",
      " 6   vix     1068 non-null   float64\n",
      "dtypes: float64(7)\n",
      "memory usage: 66.8 KB\n"
     ]
    }
   ],
   "source": [
    "# Quick look on data quality\n",
    "dataset.info()"
   ]
  },
  {
   "cell_type": "code",
   "execution_count": 66,
   "metadata": {},
   "outputs": [
    {
     "data": {
      "text/plain": [
       "wig    48210.12000\n",
       "spx     3483.81000\n",
       "gld     1902.80000\n",
       "oil       40.77000\n",
       "usd        0.85341\n",
       "vix       27.41000\n",
       "Name: 2020-10-16 00:00:00, dtype: float64"
      ]
     },
     "execution_count": 66,
     "metadata": {},
     "output_type": "execute_result"
    }
   ],
   "source": [
    "tomorrow"
   ]
  },
  {
   "cell_type": "code",
   "execution_count": 67,
   "metadata": {},
   "outputs": [],
   "source": [
    "# The data looks OK, no cleaning is needed,we can save the dataset\n",
    "\n",
    "dataset.to_csv(\"Data/Processed/dataset.csv\")\n",
    "tommorow.to_csv(\"Data/Processed/tomorrow.csv\")"
   ]
  }
 ],
 "metadata": {
  "kernelspec": {
   "display_name": "Python 3",
   "language": "python",
   "name": "python3"
  },
  "language_info": {
   "codemirror_mode": {
    "name": "ipython",
    "version": 3
   },
   "file_extension": ".py",
   "mimetype": "text/x-python",
   "name": "python",
   "nbconvert_exporter": "python",
   "pygments_lexer": "ipython3",
   "version": "3.8.5"
  },
  "varInspector": {
   "cols": {
    "lenName": 16,
    "lenType": 16,
    "lenVar": 40
   },
   "kernels_config": {
    "python": {
     "delete_cmd_postfix": "",
     "delete_cmd_prefix": "del ",
     "library": "var_list.py",
     "varRefreshCmd": "print(var_dic_list())"
    },
    "r": {
     "delete_cmd_postfix": ") ",
     "delete_cmd_prefix": "rm(",
     "library": "var_list.r",
     "varRefreshCmd": "cat(var_dic_list()) "
    }
   },
   "position": {
    "height": "608.4px",
    "left": "1156px",
    "right": "20px",
    "top": "120px",
    "width": "360px"
   },
   "types_to_exclude": [
    "module",
    "function",
    "builtin_function_or_method",
    "instance",
    "_Feature"
   ],
   "window_display": false
  }
 },
 "nbformat": 4,
 "nbformat_minor": 4
}
